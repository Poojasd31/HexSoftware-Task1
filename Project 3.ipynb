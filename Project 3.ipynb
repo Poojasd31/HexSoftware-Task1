{
 "cells": [
  {
   "cell_type": "markdown",
   "id": "4c702d42-288c-41b9-aa34-e0adf10dbec7",
   "metadata": {},
   "source": [
    "Project :- 3"
   ]
  },
  {
   "cell_type": "markdown",
   "id": "19c4339d-e583-41da-a5fc-845ddafaca8f",
   "metadata": {},
   "source": [
    "Create a game of Tic-Tac-Toe or Hangman that allows users to\n",
    "\n",
    "play against the computer.\n",
    "\n",
    "Use Python's random library for game logic."
   ]
  },
  {
   "cell_type": "code",
   "execution_count": 1,
   "id": "83d6be17-27bb-414b-a11a-3630d6f79c32",
   "metadata": {},
   "outputs": [],
   "source": [
    "import random"
   ]
  },
  {
   "cell_type": "code",
   "execution_count": 2,
   "id": "7ae685ce-dafc-4f93-81d5-b552655af556",
   "metadata": {},
   "outputs": [],
   "source": [
    "def print_board(board):\n",
    "    for row in board:\n",
    "        print(\"|\".join(row))\n",
    "        print(\"-\" * 5)"
   ]
  },
  {
   "cell_type": "code",
   "execution_count": 3,
   "id": "f38b0245-69de-4722-b309-de8d7e23f3fc",
   "metadata": {},
   "outputs": [],
   "source": [
    "def check_winner(board, mark):\n",
    "    # Check rows, columns, and diagonals\n",
    "    for row in board:\n",
    "        if all([spot == mark for spot in row]):\n",
    "            return True\n",
    "    for col in range(3):\n",
    "        if all([board[row][col] == mark for row in range(3)]):\n",
    "            return True\n",
    "    if board[0][0] == board[1][1] == board[2][2] == mark:\n",
    "        return True\n",
    "    if board[0][2] == board[1][1] == board[2][0] == mark:\n",
    "        return True\n",
    "    return False"
   ]
  },
  {
   "cell_type": "code",
   "execution_count": 4,
   "id": "12bceea1-a9b5-4af8-b553-d66fdcfb03cb",
   "metadata": {},
   "outputs": [],
   "source": [
    "def check_draw(board):\n",
    "    return all([spot != \" \" for row in board for spot in row])"
   ]
  },
  {
   "cell_type": "code",
   "execution_count": 5,
   "id": "e3096134-e8d8-4b15-9492-44ada5dfeb3f",
   "metadata": {},
   "outputs": [],
   "source": [
    "def player_move(board):\n",
    "    while True:\n",
    "        move = input(\"Enter your move (1-9): \")\n",
    "        if move.isdigit() and int(move) in range(1, 10):\n",
    "            x, y = divmod(int(move) - 1, 3)\n",
    "            if board[x][y] == \" \":\n",
    "                board[x][y] = \"X\"\n",
    "                break\n",
    "            else:\n",
    "                print(\"That spot is already taken.\")\n",
    "        else:\n",
    "            print(\"Invalid move. Enter a number between 1 and 9.\")"
   ]
  },
  {
   "cell_type": "code",
   "execution_count": 6,
   "id": "f6a59b1d-3926-45ed-a3c9-679b7705090f",
   "metadata": {},
   "outputs": [],
   "source": [
    "def computer_move(board):\n",
    "    while True:\n",
    "        move = random.randint(1, 9)\n",
    "        x, y = divmod(move - 1, 3)\n",
    "        if board[x][y] == \" \":\n",
    "            board[x][y] = \"O\"\n",
    "            break\n"
   ]
  },
  {
   "cell_type": "code",
   "execution_count": 7,
   "id": "bf3bcc6d-255a-4314-8155-18bcae3e3333",
   "metadata": {},
   "outputs": [],
   "source": [
    "def tic_tac_toe():\n",
    "    board = [[\" \" for _ in range(3)] for _ in range(3)]\n",
    "    print(\"Welcome to Tic-Tac-Toe!\")\n",
    "    print_board(board)\n",
    "\n",
    "    while True:\n",
    "        # Player's move\n",
    "        player_move(board)\n",
    "        print_board(board)\n",
    "        if check_winner(board, \"X\"):\n",
    "            print(\"You win!\")\n",
    "            break\n",
    "        if check_draw(board):\n",
    "            print(\"It's a draw!\")\n",
    "            break\n",
    "\n",
    "        # Computer's move\n",
    "        computer_move(board)\n",
    "        print(\"Computer's move:\")\n",
    "        print_board(board)\n",
    "        if check_winner(board, \"O\"):\n",
    "            print(\"Computer wins!\")\n",
    "            break\n",
    "        if check_draw(board):\n",
    "            print(\"It's a draw!\")\n",
    "            break"
   ]
  },
  {
   "cell_type": "code",
   "execution_count": 8,
   "id": "d418d58e-0e37-4ce1-b3f5-f9a055259e1d",
   "metadata": {},
   "outputs": [
    {
     "name": "stdout",
     "output_type": "stream",
     "text": [
      "Welcome to Tic-Tac-Toe!\n",
      " | | \n",
      "-----\n",
      " | | \n",
      "-----\n",
      " | | \n",
      "-----\n"
     ]
    },
    {
     "name": "stdin",
     "output_type": "stream",
     "text": [
      "Enter your move (1-9):  1\n"
     ]
    },
    {
     "name": "stdout",
     "output_type": "stream",
     "text": [
      "X| | \n",
      "-----\n",
      " | | \n",
      "-----\n",
      " | | \n",
      "-----\n",
      "Computer's move:\n",
      "X|O| \n",
      "-----\n",
      " | | \n",
      "-----\n",
      " | | \n",
      "-----\n"
     ]
    },
    {
     "name": "stdin",
     "output_type": "stream",
     "text": [
      "Enter your move (1-9):  4\n"
     ]
    },
    {
     "name": "stdout",
     "output_type": "stream",
     "text": [
      "X|O| \n",
      "-----\n",
      "X| | \n",
      "-----\n",
      " | | \n",
      "-----\n",
      "Computer's move:\n",
      "X|O| \n",
      "-----\n",
      "X| | \n",
      "-----\n",
      " | |O\n",
      "-----\n"
     ]
    },
    {
     "name": "stdin",
     "output_type": "stream",
     "text": [
      "Enter your move (1-9):  7\n"
     ]
    },
    {
     "name": "stdout",
     "output_type": "stream",
     "text": [
      "X|O| \n",
      "-----\n",
      "X| | \n",
      "-----\n",
      "X| |O\n",
      "-----\n",
      "You win!\n"
     ]
    }
   ],
   "source": [
    "if __name__ == \"__main__\":\n",
    "    tic_tac_toe()"
   ]
  },
  {
   "cell_type": "code",
   "execution_count": null,
   "id": "5be98179-1139-4494-a1c2-09718109d759",
   "metadata": {},
   "outputs": [
    {
     "name": "stdout",
     "output_type": "stream",
     "text": [
      "Welcome to Tic-Tac-Toe!\n",
      " | | \n",
      "-----\n",
      " | | \n",
      "-----\n",
      " | | \n",
      "-----\n"
     ]
    },
    {
     "name": "stdin",
     "output_type": "stream",
     "text": [
      "Enter your move (1-9):  1\n"
     ]
    },
    {
     "name": "stdout",
     "output_type": "stream",
     "text": [
      "X| | \n",
      "-----\n",
      " | | \n",
      "-----\n",
      " | | \n",
      "-----\n",
      "Computer's move:\n",
      "X|O| \n",
      "-----\n",
      " | | \n",
      "-----\n",
      " | | \n",
      "-----\n"
     ]
    },
    {
     "name": "stdin",
     "output_type": "stream",
     "text": [
      "Enter your move (1-9):  3\n"
     ]
    },
    {
     "name": "stdout",
     "output_type": "stream",
     "text": [
      "X|O|X\n",
      "-----\n",
      " | | \n",
      "-----\n",
      " | | \n",
      "-----\n",
      "Computer's move:\n",
      "X|O|X\n",
      "-----\n",
      " | | \n",
      "-----\n",
      "O| | \n",
      "-----\n"
     ]
    },
    {
     "name": "stdin",
     "output_type": "stream",
     "text": [
      "Enter your move (1-9):  4\n"
     ]
    },
    {
     "name": "stdout",
     "output_type": "stream",
     "text": [
      "X|O|X\n",
      "-----\n",
      "X| | \n",
      "-----\n",
      "O| | \n",
      "-----\n",
      "Computer's move:\n",
      "X|O|X\n",
      "-----\n",
      "X| |O\n",
      "-----\n",
      "O| | \n",
      "-----\n"
     ]
    },
    {
     "name": "stdin",
     "output_type": "stream",
     "text": [
      "Enter your move (1-9):  9\n"
     ]
    },
    {
     "name": "stdout",
     "output_type": "stream",
     "text": [
      "X|O|X\n",
      "-----\n",
      "X| |O\n",
      "-----\n",
      "O| |X\n",
      "-----\n",
      "Computer's move:\n",
      "X|O|X\n",
      "-----\n",
      "X|O|O\n",
      "-----\n",
      "O| |X\n",
      "-----\n"
     ]
    }
   ],
   "source": [
    "tic_tac_toe()"
   ]
  },
  {
   "cell_type": "code",
   "execution_count": null,
   "id": "d9b22bf8-6f09-4dc7-bf82-05bbdd82e3a5",
   "metadata": {},
   "outputs": [],
   "source": []
  }
 ],
 "metadata": {
  "kernelspec": {
   "display_name": "Python 3 (ipykernel)",
   "language": "python",
   "name": "python3"
  },
  "language_info": {
   "codemirror_mode": {
    "name": "ipython",
    "version": 3
   },
   "file_extension": ".py",
   "mimetype": "text/x-python",
   "name": "python",
   "nbconvert_exporter": "python",
   "pygments_lexer": "ipython3",
   "version": "3.12.4"
  }
 },
 "nbformat": 4,
 "nbformat_minor": 5
}
