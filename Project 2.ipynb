{
 "cells": [
  {
   "cell_type": "markdown",
   "id": "9da09b63-41f2-4bb5-b7d1-62f6d305c850",
   "metadata": {},
   "source": [
    "Project :- 2"
   ]
  },
  {
   "cell_type": "markdown",
   "id": "a6ff6d75-74a9-4096-a0e8-66f80e057299",
   "metadata": {},
   "source": [
    "VOICE ASSISTANT"
   ]
  },
  {
   "cell_type": "markdown",
   "id": "df0069af-23e4-46b4-8f64-3087a65e5e73",
   "metadata": {},
   "source": [
    "Create a custom voice assistant using Python to personalize and automate tasks according to your needs. Python's versatility makes it an excellent choice for scripting and development, allowing you to build a voice assistant that can compete with the likes of Siri, Alexa, and Google Assistant."
   ]
  },
  {
   "cell_type": "code",
   "execution_count": 1,
   "id": "b20c453b-e011-4396-a147-415fae3cdbfc",
   "metadata": {},
   "outputs": [
    {
     "name": "stdout",
     "output_type": "stream",
     "text": [
      "Requirement already satisfied: SpeechRecognition in c:\\users\\pooja\\appdata\\local\\programs\\python\\python312\\lib\\site-packages (3.10.4)\n",
      "Requirement already satisfied: requests>=2.26.0 in c:\\users\\pooja\\appdata\\local\\programs\\python\\python312\\lib\\site-packages (from SpeechRecognition) (2.32.3)\n",
      "Requirement already satisfied: typing-extensions in c:\\users\\pooja\\appdata\\local\\programs\\python\\python312\\lib\\site-packages (from SpeechRecognition) (4.12.2)\n",
      "Requirement already satisfied: charset-normalizer<4,>=2 in c:\\users\\pooja\\appdata\\local\\programs\\python\\python312\\lib\\site-packages (from requests>=2.26.0->SpeechRecognition) (3.3.2)\n",
      "Requirement already satisfied: idna<4,>=2.5 in c:\\users\\pooja\\appdata\\local\\programs\\python\\python312\\lib\\site-packages (from requests>=2.26.0->SpeechRecognition) (3.7)\n",
      "Requirement already satisfied: urllib3<3,>=1.21.1 in c:\\users\\pooja\\appdata\\local\\programs\\python\\python312\\lib\\site-packages (from requests>=2.26.0->SpeechRecognition) (2.2.2)\n",
      "Requirement already satisfied: certifi>=2017.4.17 in c:\\users\\pooja\\appdata\\local\\programs\\python\\python312\\lib\\site-packages (from requests>=2.26.0->SpeechRecognition) (2024.7.4)\n",
      "Note: you may need to restart the kernel to use updated packages.\n"
     ]
    }
   ],
   "source": [
    "pip install SpeechRecognition"
   ]
  },
  {
   "cell_type": "code",
   "execution_count": 2,
   "id": "8b91d3ff-51e5-4a5f-af9d-aba6f14fe0b4",
   "metadata": {},
   "outputs": [
    {
     "name": "stdout",
     "output_type": "stream",
     "text": [
      "Requirement already satisfied: pyttsx3 in c:\\users\\pooja\\appdata\\local\\programs\\python\\python312\\lib\\site-packages (2.91)\n",
      "Requirement already satisfied: comtypes in c:\\users\\pooja\\appdata\\local\\programs\\python\\python312\\lib\\site-packages (from pyttsx3) (1.4.6)\n",
      "Requirement already satisfied: pypiwin32 in c:\\users\\pooja\\appdata\\local\\programs\\python\\python312\\lib\\site-packages (from pyttsx3) (223)\n",
      "Requirement already satisfied: pywin32 in c:\\users\\pooja\\appdata\\local\\programs\\python\\python312\\lib\\site-packages (from pyttsx3) (306)\n",
      "Note: you may need to restart the kernel to use updated packages.\n"
     ]
    }
   ],
   "source": [
    "pip install pyttsx3"
   ]
  },
  {
   "cell_type": "code",
   "execution_count": 3,
   "id": "ff049917-3b1d-40a3-acf2-de9c68c79660",
   "metadata": {},
   "outputs": [
    {
     "name": "stdout",
     "output_type": "stream",
     "text": [
      "Requirement already satisfied: pyaudio in c:\\users\\pooja\\appdata\\local\\programs\\python\\python312\\lib\\site-packages (0.2.14)\n",
      "Note: you may need to restart the kernel to use updated packages.\n"
     ]
    }
   ],
   "source": [
    "pip install pyaudio"
   ]
  },
  {
   "cell_type": "code",
   "execution_count": 4,
   "id": "1adc8abd-ea24-4fb0-87e3-306d40216c09",
   "metadata": {},
   "outputs": [
    {
     "name": "stdout",
     "output_type": "stream",
     "text": [
      "Requirement already satisfied: pywhatkit in c:\\users\\pooja\\appdata\\local\\programs\\python\\python312\\lib\\site-packages (5.4)\n",
      "Requirement already satisfied: Pillow in c:\\users\\pooja\\appdata\\local\\programs\\python\\python312\\lib\\site-packages (from pywhatkit) (10.4.0)\n",
      "Requirement already satisfied: pyautogui in c:\\users\\pooja\\appdata\\local\\programs\\python\\python312\\lib\\site-packages (from pywhatkit) (0.9.54)\n",
      "Requirement already satisfied: requests in c:\\users\\pooja\\appdata\\local\\programs\\python\\python312\\lib\\site-packages (from pywhatkit) (2.32.3)\n",
      "Requirement already satisfied: wikipedia in c:\\users\\pooja\\appdata\\local\\programs\\python\\python312\\lib\\site-packages (from pywhatkit) (1.4.0)\n",
      "Requirement already satisfied: Flask in c:\\users\\pooja\\appdata\\local\\programs\\python\\python312\\lib\\site-packages (from pywhatkit) (3.0.3)\n",
      "Requirement already satisfied: Werkzeug>=3.0.0 in c:\\users\\pooja\\appdata\\local\\programs\\python\\python312\\lib\\site-packages (from Flask->pywhatkit) (3.0.4)\n",
      "Requirement already satisfied: Jinja2>=3.1.2 in c:\\users\\pooja\\appdata\\local\\programs\\python\\python312\\lib\\site-packages (from Flask->pywhatkit) (3.1.4)\n",
      "Requirement already satisfied: itsdangerous>=2.1.2 in c:\\users\\pooja\\appdata\\local\\programs\\python\\python312\\lib\\site-packages (from Flask->pywhatkit) (2.2.0)\n",
      "Requirement already satisfied: click>=8.1.3 in c:\\users\\pooja\\appdata\\local\\programs\\python\\python312\\lib\\site-packages (from Flask->pywhatkit) (8.1.7)\n",
      "Requirement already satisfied: blinker>=1.6.2 in c:\\users\\pooja\\appdata\\local\\programs\\python\\python312\\lib\\site-packages (from Flask->pywhatkit) (1.8.2)\n",
      "Requirement already satisfied: pymsgbox in c:\\users\\pooja\\appdata\\local\\programs\\python\\python312\\lib\\site-packages (from pyautogui->pywhatkit) (1.0.9)\n",
      "Requirement already satisfied: pytweening>=1.0.4 in c:\\users\\pooja\\appdata\\local\\programs\\python\\python312\\lib\\site-packages (from pyautogui->pywhatkit) (1.2.0)\n",
      "Requirement already satisfied: pyscreeze>=0.1.21 in c:\\users\\pooja\\appdata\\local\\programs\\python\\python312\\lib\\site-packages (from pyautogui->pywhatkit) (1.0.1)\n",
      "Requirement already satisfied: pygetwindow>=0.0.5 in c:\\users\\pooja\\appdata\\local\\programs\\python\\python312\\lib\\site-packages (from pyautogui->pywhatkit) (0.0.9)\n",
      "Requirement already satisfied: mouseinfo in c:\\users\\pooja\\appdata\\local\\programs\\python\\python312\\lib\\site-packages (from pyautogui->pywhatkit) (0.1.3)\n",
      "Requirement already satisfied: charset-normalizer<4,>=2 in c:\\users\\pooja\\appdata\\local\\programs\\python\\python312\\lib\\site-packages (from requests->pywhatkit) (3.3.2)\n",
      "Requirement already satisfied: idna<4,>=2.5 in c:\\users\\pooja\\appdata\\local\\programs\\python\\python312\\lib\\site-packages (from requests->pywhatkit) (3.7)\n",
      "Requirement already satisfied: urllib3<3,>=1.21.1 in c:\\users\\pooja\\appdata\\local\\programs\\python\\python312\\lib\\site-packages (from requests->pywhatkit) (2.2.2)\n",
      "Requirement already satisfied: certifi>=2017.4.17 in c:\\users\\pooja\\appdata\\local\\programs\\python\\python312\\lib\\site-packages (from requests->pywhatkit) (2024.7.4)\n",
      "Requirement already satisfied: beautifulsoup4 in c:\\users\\pooja\\appdata\\local\\programs\\python\\python312\\lib\\site-packages (from wikipedia->pywhatkit) (4.12.3)\n",
      "Requirement already satisfied: colorama in c:\\users\\pooja\\appdata\\local\\programs\\python\\python312\\lib\\site-packages (from click>=8.1.3->Flask->pywhatkit) (0.4.6)\n",
      "Requirement already satisfied: MarkupSafe>=2.0 in c:\\users\\pooja\\appdata\\local\\programs\\python\\python312\\lib\\site-packages (from Jinja2>=3.1.2->Flask->pywhatkit) (2.1.5)\n",
      "Requirement already satisfied: pyrect in c:\\users\\pooja\\appdata\\local\\programs\\python\\python312\\lib\\site-packages (from pygetwindow>=0.0.5->pyautogui->pywhatkit) (0.2.0)\n",
      "Requirement already satisfied: soupsieve>1.2 in c:\\users\\pooja\\appdata\\local\\programs\\python\\python312\\lib\\site-packages (from beautifulsoup4->wikipedia->pywhatkit) (2.5)\n",
      "Requirement already satisfied: pyperclip in c:\\users\\pooja\\appdata\\local\\programs\\python\\python312\\lib\\site-packages (from mouseinfo->pyautogui->pywhatkit) (1.9.0)\n",
      "Note: you may need to restart the kernel to use updated packages.\n"
     ]
    }
   ],
   "source": [
    "pip install pywhatkit"
   ]
  },
  {
   "cell_type": "code",
   "execution_count": 5,
   "id": "a0925ae4-a885-4fd6-a358-1532e82697f3",
   "metadata": {},
   "outputs": [
    {
     "name": "stdout",
     "output_type": "stream",
     "text": [
      "Requirement already satisfied: wikipedia in c:\\users\\pooja\\appdata\\local\\programs\\python\\python312\\lib\\site-packages (1.4.0)\n",
      "Requirement already satisfied: beautifulsoup4 in c:\\users\\pooja\\appdata\\local\\programs\\python\\python312\\lib\\site-packages (from wikipedia) (4.12.3)\n",
      "Requirement already satisfied: requests<3.0.0,>=2.0.0 in c:\\users\\pooja\\appdata\\local\\programs\\python\\python312\\lib\\site-packages (from wikipedia) (2.32.3)\n",
      "Requirement already satisfied: charset-normalizer<4,>=2 in c:\\users\\pooja\\appdata\\local\\programs\\python\\python312\\lib\\site-packages (from requests<3.0.0,>=2.0.0->wikipedia) (3.3.2)\n",
      "Requirement already satisfied: idna<4,>=2.5 in c:\\users\\pooja\\appdata\\local\\programs\\python\\python312\\lib\\site-packages (from requests<3.0.0,>=2.0.0->wikipedia) (3.7)\n",
      "Requirement already satisfied: urllib3<3,>=1.21.1 in c:\\users\\pooja\\appdata\\local\\programs\\python\\python312\\lib\\site-packages (from requests<3.0.0,>=2.0.0->wikipedia) (2.2.2)\n",
      "Requirement already satisfied: certifi>=2017.4.17 in c:\\users\\pooja\\appdata\\local\\programs\\python\\python312\\lib\\site-packages (from requests<3.0.0,>=2.0.0->wikipedia) (2024.7.4)\n",
      "Requirement already satisfied: soupsieve>1.2 in c:\\users\\pooja\\appdata\\local\\programs\\python\\python312\\lib\\site-packages (from beautifulsoup4->wikipedia) (2.5)\n",
      "Note: you may need to restart the kernel to use updated packages.\n"
     ]
    }
   ],
   "source": [
    "pip install wikipedia"
   ]
  },
  {
   "cell_type": "code",
   "execution_count": 6,
   "id": "80bfdb2c-49c1-492b-8acd-6b88f18fe7b8",
   "metadata": {},
   "outputs": [
    {
     "name": "stdout",
     "output_type": "stream",
     "text": [
      "Requirement already satisfied: requests in c:\\users\\pooja\\appdata\\local\\programs\\python\\python312\\lib\\site-packages (2.32.3)\n",
      "Requirement already satisfied: charset-normalizer<4,>=2 in c:\\users\\pooja\\appdata\\local\\programs\\python\\python312\\lib\\site-packages (from requests) (3.3.2)\n",
      "Requirement already satisfied: idna<4,>=2.5 in c:\\users\\pooja\\appdata\\local\\programs\\python\\python312\\lib\\site-packages (from requests) (3.7)\n",
      "Requirement already satisfied: urllib3<3,>=1.21.1 in c:\\users\\pooja\\appdata\\local\\programs\\python\\python312\\lib\\site-packages (from requests) (2.2.2)\n",
      "Requirement already satisfied: certifi>=2017.4.17 in c:\\users\\pooja\\appdata\\local\\programs\\python\\python312\\lib\\site-packages (from requests) (2024.7.4)\n",
      "Note: you may need to restart the kernel to use updated packages.\n"
     ]
    }
   ],
   "source": [
    "pip install requests"
   ]
  },
  {
   "cell_type": "code",
   "execution_count": 7,
   "id": "b131b2f2-406c-4604-9d4e-59d1bc41383a",
   "metadata": {},
   "outputs": [
    {
     "name": "stdout",
     "output_type": "stream",
     "text": [
      "Requirement already satisfied: wolframalpha in c:\\users\\pooja\\appdata\\local\\programs\\python\\python312\\lib\\site-packages (5.1.3)\n",
      "Requirement already satisfied: xmltodict in c:\\users\\pooja\\appdata\\local\\programs\\python\\python312\\lib\\site-packages (from wolframalpha) (0.13.0)\n",
      "Requirement already satisfied: more-itertools in c:\\users\\pooja\\appdata\\local\\programs\\python\\python312\\lib\\site-packages (from wolframalpha) (10.4.0)\n",
      "Requirement already satisfied: jaraco.context in c:\\users\\pooja\\appdata\\local\\programs\\python\\python312\\lib\\site-packages (from wolframalpha) (6.0.1)\n",
      "Requirement already satisfied: httpx in c:\\users\\pooja\\appdata\\local\\programs\\python\\python312\\lib\\site-packages (from wolframalpha) (0.27.0)\n",
      "Requirement already satisfied: multidict in c:\\users\\pooja\\appdata\\local\\programs\\python\\python312\\lib\\site-packages (from wolframalpha) (6.0.5)\n",
      "Requirement already satisfied: anyio in c:\\users\\pooja\\appdata\\local\\programs\\python\\python312\\lib\\site-packages (from httpx->wolframalpha) (4.4.0)\n",
      "Requirement already satisfied: certifi in c:\\users\\pooja\\appdata\\local\\programs\\python\\python312\\lib\\site-packages (from httpx->wolframalpha) (2024.7.4)\n",
      "Requirement already satisfied: httpcore==1.* in c:\\users\\pooja\\appdata\\local\\programs\\python\\python312\\lib\\site-packages (from httpx->wolframalpha) (1.0.5)\n",
      "Requirement already satisfied: idna in c:\\users\\pooja\\appdata\\local\\programs\\python\\python312\\lib\\site-packages (from httpx->wolframalpha) (3.7)\n",
      "Requirement already satisfied: sniffio in c:\\users\\pooja\\appdata\\local\\programs\\python\\python312\\lib\\site-packages (from httpx->wolframalpha) (1.3.1)\n",
      "Requirement already satisfied: h11<0.15,>=0.13 in c:\\users\\pooja\\appdata\\local\\programs\\python\\python312\\lib\\site-packages (from httpcore==1.*->httpx->wolframalpha) (0.14.0)\n",
      "Note: you may need to restart the kernel to use updated packages.\n"
     ]
    }
   ],
   "source": [
    "pip install wolframalpha"
   ]
  },
  {
   "cell_type": "code",
   "execution_count": 8,
   "id": "b476d606-7532-4656-b0b1-620104d61b59",
   "metadata": {},
   "outputs": [],
   "source": [
    "import speech_recognition as sr\n",
    "import pyttsx3"
   ]
  },
  {
   "cell_type": "code",
   "execution_count": 9,
   "id": "2325a42f-9ea8-4ae8-854e-075eb186a4e6",
   "metadata": {},
   "outputs": [],
   "source": [
    "# Initialize the recognizer and the engine\n",
    "recognizer = sr.Recognizer()\n",
    "engine = pyttsx3.init()"
   ]
  },
  {
   "cell_type": "code",
   "execution_count": 10,
   "id": "bff988b1-2fc9-465b-90cd-01369f5ff575",
   "metadata": {},
   "outputs": [],
   "source": [
    "# Function to make the assistant speak\n",
    "def speak(text):\n",
    "    engine.say(text)\n",
    "    engine.runAndWait()"
   ]
  },
  {
   "cell_type": "code",
   "execution_count": 11,
   "id": "568fc8e6-fa0e-4913-884b-f882348ec1e7",
   "metadata": {},
   "outputs": [],
   "source": [
    "# Function to capture voice input\n",
    "def listen():\n",
    "    with sr.Microphone() as source:\n",
    "        print(\"Listening...\")\n",
    "        recognizer.adjust_for_ambient_noise(source)\n",
    "        audio = recognizer.listen(source)\n",
    "\n",
    "    try:\n",
    "        print(\"Recognizing...\")\n",
    "        command = recognizer.recognize_google(audio)\n",
    "        print(f\"You said: {command}\\n\")\n",
    "        return command.lower()\n",
    "    except Exception as e:\n",
    "        print(\"Sorry, I did not catch that.\")\n",
    "        return \"None\""
   ]
  },
  {
   "cell_type": "code",
   "execution_count": 12,
   "id": "79b01d06-6b50-4d0e-942f-b81eecdafd78",
   "metadata": {},
   "outputs": [],
   "source": [
    "#Define a function to handle various commands.\n",
    "import pywhatkit\n",
    "import wikipedia\n",
    "import datetime\n",
    "import requests\n",
    "import wolframalpha"
   ]
  },
  {
   "cell_type": "code",
   "execution_count": 13,
   "id": "0ee25323-3b35-4ae6-80f7-13d2145ed7f0",
   "metadata": {},
   "outputs": [],
   "source": [
    "# Initialize WolframAlpha client\n",
    "wolfram_app_id = \"YOUR_WOLFRAM_APP_ID\"\n",
    "wolfram_client = wolframalpha.Client(wolfram_app_id)\n",
    "\n",
    "def handle_command(command):\n",
    "    if 'play' in command:\n",
    "        song = command.replace('play', '')\n",
    "        speak(f'Playing {song}')\n",
    "        pywhatkit.playonyt(song)\n",
    "\n",
    "    elif 'time' in command:\n",
    "        time = datetime.datetime.now().strftime('%I:%M %p')\n",
    "        speak(f'The time is {time}')\n",
    "\n",
    "    elif 'search' in command:\n",
    "        query = command.replace('search', '')\n",
    "        speak(f'Searching for {query}')\n",
    "        pywhatkit.search(query)\n",
    "\n",
    "    elif 'who is' in command or 'what is' in command:\n",
    "        query = command.replace('who is', '').replace('what is', '')\n",
    "        speak('Searching Wikipedia...')\n",
    "        result = wikipedia.summary(query, sentences=2)\n",
    "        speak(result)\n",
    "\n",
    "    elif 'calculate' in command or 'what is' in command:\n",
    "        query = command\n",
    "        res = wolfram_client.query(query)\n",
    "        try:\n",
    "            answer = next(res.results).text\n",
    "            speak(f'The answer is {answer}')\n",
    "        except StopIteration:\n",
    "            speak(\"I couldn't calculate that, please try again.\")\n",
    "\n",
    "    elif 'news' in command:\n",
    "        url = \"https://newsapi.org/v2/top-headlines?country=in&apiKey=YOUR_NEWS_API_KEY\"\n",
    "        response = requests.get(url)\n",
    "        news = response.json().get('articles')[:5]\n",
    "        speak(\"Here are the top headlines:\")\n",
    "        for article in news:\n",
    "            speak(article['title'])\n",
    "\n",
    "    else:\n",
    "        speak(\"Sorry, I didn't understand that.\")"
   ]
  },
  {
   "cell_type": "code",
   "execution_count": null,
   "id": "de9b626c-ab1c-4540-a182-737a510bb9e6",
   "metadata": {},
   "outputs": [
    {
     "name": "stdout",
     "output_type": "stream",
     "text": [
      "Listening...\n",
      "Recognizing...\n",
      "Sorry, I did not catch that.\n",
      "Listening...\n",
      "Recognizing...\n",
      "You said: who is Mahendra Singh Dhoni\n",
      "\n",
      "Listening...\n"
     ]
    }
   ],
   "source": [
    "#Finally, create a loop to continuously listen for commands.\n",
    "if __name__ == \"__main__\":\n",
    "    speak(\"How can I assist you today?\")\n",
    "    while True:\n",
    "        command = listen()\n",
    "        if 'exit' in command or 'stop' in command:\n",
    "            speak(\"Goodbye!\")\n",
    "            break\n",
    "        handle_command(command)\n"
   ]
  },
  {
   "cell_type": "code",
   "execution_count": null,
   "id": "fe1cc98d-152b-4a5c-9324-448fd6eca4bd",
   "metadata": {},
   "outputs": [],
   "source": []
  }
 ],
 "metadata": {
  "kernelspec": {
   "display_name": "Python 3 (ipykernel)",
   "language": "python",
   "name": "python3"
  },
  "language_info": {
   "codemirror_mode": {
    "name": "ipython",
    "version": 3
   },
   "file_extension": ".py",
   "mimetype": "text/x-python",
   "name": "python",
   "nbconvert_exporter": "python",
   "pygments_lexer": "ipython3",
   "version": "3.12.4"
  }
 },
 "nbformat": 4,
 "nbformat_minor": 5
}
